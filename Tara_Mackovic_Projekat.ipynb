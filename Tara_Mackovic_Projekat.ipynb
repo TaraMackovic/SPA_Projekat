{
 "cells": [
  {
   "cell_type": "code",
   "execution_count": null,
   "id": "58a15b3b-042a-47fe-81f8-e59482ad4b66",
   "metadata": {},
   "outputs": [],
   "source": [
    "#Importovanje neophodnih modula iz biblioteke Transformers\n",
    "\n",
    "from transformers import GPT2LMHeadModel , GPT2Tokenizer \n",
    "\n",
    "#Importovanje modula Translator\n",
    "\n",
    "from googletrans import Translator"
   ]
  },
  {
   "cell_type": "code",
   "execution_count": null,
   "id": "8d72c1b3-0a4f-4693-9402-236859242cd7",
   "metadata": {},
   "outputs": [],
   "source": [
    "#Inicijalizacija GPT-2 tokenizatora sa 'gpt2-large' obučenim modelom\n",
    "\n",
    "tokenizer = GPT2Tokenizer.from_pretrained('gpt2-large') \n",
    "\n",
    "#Inicijalizacija GPT-2 jezičkog modela sa 'gpt2-large' obučenim modelom \n",
    "\n",
    "model = GPT2LMHeadModel.from_pretrained('gpt2-large' , pad_token_id = tokenizer.eos_token_id)"
   ]
  },
  {
   "cell_type": "code",
   "execution_count": null,
   "id": "c8d434d6-3596-4a47-b82a-74ccc50b27b7",
   "metadata": {},
   "outputs": [],
   "source": [
    "#Definisanje teme/pitanja za generisanja novog teksta\n",
    "\n",
    "input_text = 'What is programming language Python?' \n",
    "source_language = 'en'  "
   ]
  },
  {
   "cell_type": "code",
   "execution_count": null,
   "id": "b845c853-0b9e-455e-b646-00235a4ef516",
   "metadata": {},
   "outputs": [],
   "source": [
    "# Model efikasno generise tekst na engleskom jeziku, aко је rečenica napisana u nekom drugom jeziku, prevodi se\n",
    "\n",
    "if source_language != 'en':\n",
    "    translator = Translator()\n",
    "    translated_text = translator.translate(input_text, src=source_language, dest='en')\n",
    "    input_text = translated_text.text"
   ]
  },
  {
   "cell_type": "code",
   "execution_count": null,
   "id": "50f0bd09-d9ef-40e8-88e3-b3b7b8e27ee0",
   "metadata": {},
   "outputs": [],
   "source": [
    "#Enkodiranje unesene rečenice u PyTorch tenzore (niz cijelih brojeva)\n",
    "\n",
    "input_ids = tokenizer.encode(input_text, return_tensors='pt') \n",
    "\n",
    "print(input_ids)\n",
    "# primjer: 'tensor([[ 2061,   318,  8300,  3303, 11361]])'"
   ]
  },
  {
   "cell_type": "code",
   "execution_count": null,
   "id": "45885949-d9aa-4360-862b-56b1fd8c2480",
   "metadata": {},
   "outputs": [],
   "source": [
    "#Generisanje novog teksta koristeći GPT-2 model\n",
    "\n",
    "#Parametri metode generate:\n",
    "\n",
    "# max_length - maksimalan broj rijeci,\n",
    "# num_beams - genrise se 5 uzastopnih rijeci sa najvecim prioritetom,\n",
    "# no_repeat_ngram_size - ista sekvenca se ne ponavlja vise od 2 puta,\n",
    "# early_stopping - ukoliko dodje do ponavljanja sekvence, generisanje se prekida\n",
    "\n",
    "output = model.generate(input_ids, max_length = 100, num_beams = 5,no_repeat_ngram_size = 2,early_stopping = True)"
   ]
  },
  {
   "cell_type": "code",
   "execution_count": null,
   "id": "25f99eae-3f86-4d49-9c91-2990387fda0e",
   "metadata": {},
   "outputs": [],
   "source": [
    "#Dekodiranje generisanog izlaza\n",
    "\n",
    "decoded_output = tokenizer.decode(output[0], skip_special_tokens=True)"
   ]
  },
  {
   "cell_type": "code",
   "execution_count": null,
   "id": "5b1dbb20-53a0-4795-97a5-9bcb449b4f60",
   "metadata": {},
   "outputs": [],
   "source": [
    "# Ukoliko tekst ne završаva tačkom, radi ljepšeg ispisa\n",
    "\n",
    "if decoded_output.endswith('.'):\n",
    "    pass\n",
    "else:\n",
    "    # Ako posljednja rečenica ne sadrži tačku, briše se\n",
    "    last_period_index = decoded_output.rfind('.')\n",
    "    if last_period_index != -1:\n",
    "        decoded_output = decoded_output[:last_period_index + 1]   "
   ]
  },
  {
   "cell_type": "code",
   "execution_count": null,
   "id": "77b2e114-1400-4896-9ab3-3a857015b24a",
   "metadata": {},
   "outputs": [],
   "source": [
    "# Prevodjenje teksta u počеtni jezik \n",
    "\n",
    "if source_language != 'en':\n",
    "    translator = Translator()\n",
    "    translated_text = translator.translate(decoded_output, src='en', dest=source_language)\n",
    "    decoded_output = translated_text.text"
   ]
  },
  {
   "cell_type": "code",
   "execution_count": null,
   "id": "e3c819f8-1189-4fe6-b188-5cf2e9b6e00b",
   "metadata": {},
   "outputs": [],
   "source": [
    "# Ispisivanje generisanog teksta\n",
    "\n",
    "# Može se desiti greška: 'QUERY LENGTH LIMIT EXCEEDED', kada je dužina ispisa veća od maksimalne dužine koju je naveo API\n",
    "# Zbog toga, dijenje teksta u manje cjeline\n",
    "if(len(decoded_output) >= 500):\n",
    "    parts = [decoded_output[i:i+500] for i in range(0, len(decoded_output), 500)]\n",
    "    for part in parts:\n",
    "        print(part, end = '')\n",
    "else:\n",
    "    print(decoded_output)"
   ]
  }
 ],
 "metadata": {
  "kernelspec": {
   "display_name": "Python 3 (ipykernel)",
   "language": "python",
   "name": "python3"
  },
  "language_info": {
   "codemirror_mode": {
    "name": "ipython",
    "version": 3
   },
   "file_extension": ".py",
   "mimetype": "text/x-python",
   "name": "python",
   "nbconvert_exporter": "python",
   "pygments_lexer": "ipython3",
   "version": "3.12.3"
  }
 },
 "nbformat": 4,
 "nbformat_minor": 5
}
