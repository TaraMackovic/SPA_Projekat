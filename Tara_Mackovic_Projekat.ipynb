{
 "cells": [
  {
   "cell_type": "code",
   "execution_count": null,
   "id": "8b300fb1-5016-4139-900e-944e64bea1a8",
   "metadata": {},
   "outputs": [],
   "source": [
    "#Importovanje neophodnih modula iz biblioteke Transformers\n",
    "\n",
    "from transformers import GPT2LMHeadModel , GPT2Tokenizer \n",
    "\n",
    "#Importovanje modula Translator\n",
    "\n",
    "from googletrans import Translator"
   ]
  },
  {
   "cell_type": "code",
   "execution_count": null,
   "id": "c0a2b052-ac52-4609-a488-edc57a5a22f4",
   "metadata": {},
   "outputs": [],
   "source": [
    "#Inicijalizacija GPT-2 tokenizatora sa 'gpt2-large' obučenim modelom\n",
    "\n",
    "tokenizer = GPT2Tokenizer.from_pretrained('gpt2-large') \n",
    "\n",
    "#Inicijalizacija GPT-2 jezičkog modela sa 'gpt2-large' obučenim modelom \n",
    "\n",
    "model = GPT2LMHeadModel.from_pretrained('gpt2-large' , pad_token_id = tokenizer.eos_token_id)"
   ]
  },
  {
   "cell_type": "code",
   "execution_count": null,
   "id": "9e7021c1-8295-4ad4-86ce-799b9ecdfa5c",
   "metadata": {},
   "outputs": [],
   "source": [
    "#Funkcija za generisanje teksta\n",
    "\n",
    "def generate_text(input_text,source_language):\n",
    "    \n",
    "    # Model efikasno generise tekst na engleskom jeziku, aко је rečenica napisana u nekom drugom jeziku, prevodi se\n",
    "    \n",
    "    if source_language != 'en':\n",
    "        input_text = translate(input_text, source_language, 'en')\n",
    "\n",
    "    #Enkodiranje unesene rečenice u PyTorch tenzore (niz cijelih brojeva)\n",
    "    \n",
    "    input_ids = tokenizer.encode(input_text, return_tensors='pt') \n",
    "    \n",
    "    # primjer: 'tensor([[ 2061,   318,  8300,  3303, 11361]])'\n",
    "    \n",
    "    #Generisanje novog teksta koristeći GPT-2 model\n",
    "    \n",
    "    #Parametri metode generate:\n",
    "    # max_length - maksimalan broj rijeci,\n",
    "    # num_beams - genrise se 5 uzastopnih rijeci sa najvecim prioritetom,\n",
    "    # no_repeat_ngram_size - ista sekvenca se ne ponavlja vise od 2 puta,\n",
    "    # early_stopping - ukoliko dodje do ponavljanja sekvence, generisanje se prekida\n",
    "    \n",
    "    output = model.generate(input_ids, max_length = 100, num_beams = 5,no_repeat_ngram_size = 2,early_stopping = True)\n",
    "    \n",
    "    #Dekodiranje generisanog izlaza\n",
    "    \n",
    "    decoded_output = tokenizer.decode(output[0], skip_special_tokens=True)\n",
    "\n",
    "    ispis(decoded_output, source_language)"
   ]
  },
  {
   "cell_type": "code",
   "execution_count": null,
   "id": "02876936-e0d7-4ddc-a7b7-296f7cacebd4",
   "metadata": {},
   "outputs": [],
   "source": [
    "#Funkcija za prevodjenje teksta\n",
    "\n",
    "def translate(input, src, dest):\n",
    "    translator = Translator()\n",
    "    translated_text = translator.translate(input, src=src, dest=dest)\n",
    "    return translated_text.text"
   ]
  },
  {
   "cell_type": "code",
   "execution_count": null,
   "id": "5693c807-4397-44dc-9bfc-b434d618f4f9",
   "metadata": {},
   "outputs": [],
   "source": [
    "#Funkcija za ispis generisanog teksta\n",
    "\n",
    "def ispis(decoded_output, source_language):\n",
    "    # Ukoliko tekst ne završаva tačkom, radi ljepšeg ispisa\n",
    "    \n",
    "    if decoded_output.endswith('.'):\n",
    "        pass\n",
    "    else:\n",
    "        # Ako posljednja rečenica ne sadrži tačku, briše se\n",
    "        last_period_index = decoded_output.rfind('.')\n",
    "        if last_period_index != -1:\n",
    "            decoded_output = decoded_output[:last_period_index + 1]   \n",
    "    \n",
    "    # Prevodjenje teksta u počеtni jezik \n",
    "    \n",
    "    if source_language != 'en':\n",
    "        decoded_output = translate(decoded_output, 'en', source_language)\n",
    "\n",
    "    # Ispisivanje generisanog teksta\n",
    "    \n",
    "    # Može se desiti greška: 'QUERY LENGTH LIMIT EXCEEDED', kada je dužina ispisa veća od maksimalne dužine koju je naveo API\n",
    "    # Zbog toga, dijenje teksta u manje cjeline\n",
    "    if(len(decoded_output) >= 500):\n",
    "        parts = [decoded_output[i:i+500] for i in range(0, len(decoded_output), 500)]\n",
    "        for part in parts:\n",
    "            print(part, end = '')\n",
    "    else:\n",
    "        print(decoded_output)"
   ]
  },
  {
   "cell_type": "code",
   "execution_count": null,
   "id": "6a6fb0a8-98fa-42ce-a740-351557a89c4f",
   "metadata": {},
   "outputs": [],
   "source": [
    "#Definisanje teme/pitanja i generisanje novog teksta\n",
    "\n",
    "if __name__ == \"__main__\":\n",
    "    input_text = 'Sta je programerski jezik Python?' \n",
    "    source_language = 'sr'  \n",
    "    generate_text(input_text, source_language)"
   ]
  }
 ],
 "metadata": {
  "kernelspec": {
   "display_name": "Python 3 (ipykernel)",
   "language": "python",
   "name": "python3"
  },
  "language_info": {
   "codemirror_mode": {
    "name": "ipython",
    "version": 3
   },
   "file_extension": ".py",
   "mimetype": "text/x-python",
   "name": "python",
   "nbconvert_exporter": "python",
   "pygments_lexer": "ipython3",
   "version": "3.12.3"
  }
 },
 "nbformat": 4,
 "nbformat_minor": 5
}
